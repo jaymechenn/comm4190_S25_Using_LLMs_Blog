{
 "cells": [
  {
   "cell_type": "raw",
   "id": "ccbf05c5-3948-4123-b00a-99f2756da288",
   "metadata": {},
   "source": [
    "---\n",
    "title: \"Birthday Gift\"\n",
    "description: \"Can GPT help me find the perfect birthday gift for my best friend?\"\n",
    "author: \"Jayme Chen\"\n",
    "date: \"3/20/2025\"\n",
    "categories:\n",
    "  - LLMs\n",
    "  - prompting\n",
    "  - logic\n",
    "---"
   ]
  },
  {
   "cell_type": "markdown",
   "id": "e188601b-f9f3-499c-b54f-6f803273c311",
   "metadata": {},
   "source": [
    "# Introduction\n",
    "My best friend's birthday is coming up! I still need to find a birthday gift for her, so I asked ChatCPT to help me brainstorm gift ideas based on her hobbies and some basic information about her. Let's see if GPT has any good ideas."
   ]
  },
  {
   "cell_type": "markdown",
   "id": "189edbd4-6d8e-4135-8b81-04bd39d4bf35",
   "metadata": {},
   "source": [
    "# Lets Go!\n",
    "\n",
    "## Prompt 1\n",
    "> Prompt: Help me find a birthday gift for my best friend\n",
    "\n",
    "> Response:\n",
    "\n",
    "Certainly! I'd love to help, but it would be useful to learn a bit more. Could you share some details about your friend, such as:\n",
    "\n",
    "- Their hobbies or interests\n",
    "- The types of things they usually enjoy (e.g., experiences, gadgets, books, fashion, etc.)\n",
    "- Any style or aesthetic preferences they have\n",
    "- Your approximate budget\n",
    "\n",
    "With a bit more context, we can come up with ideas that will truly resonate with your friend. Feel free to share any details you’re comfortable with!\n",
    "\n",
    "---\n",
    "## Notes\n",
    "* Before offering me gift ideas, GPT asked me for some additional information about my friend.\n",
    "* This is human-like behavior, as I would expect another human to ask me about hobbies or interests to inform their recommendations, rather than launching into basic, impersonal gifts.\n",
    "* With this information, GPT will likely be able to generate more personal gifts, so I was pleasantly surprised by its follow-up question."
   ]
  },
  {
   "cell_type": "markdown",
   "id": "adbfd115-c20f-45be-a325-8244ba15f4c5",
   "metadata": {},
   "source": [
    "## Prompt 2\n",
    "> Prompt: She is a college student studying biology. She likes gaming and baking and she is Korean.\n",
    "\n",
    "> Response:\n",
    ">\n",
    "Here are some birthday gift ideas that combine her interests and background. Hopefully, these suggestions can inspire a meaningful gift she’ll love!\n",
    "\n",
    "---\n",
    "\n",
    "## 1. Biology-Inspired Gifts\n",
    "- **Microscopic Plushies or Models**: You can find plushies shaped like cells, microbes, or organs for a playful take on her major. They’re cute, educational, and double as great conversation starters.\n",
    "- **Biology-Themed Jewelry**: Look for necklaces or earrings with DNA helix or molecule pendants. It’s a subtle way for her to show off her passion for science.\n",
    "- **Science-Themed Stationery**: If she’s taking lots of notes, consider getting a high-quality notebook or planner with biology illustrations, plus some fun stickers or washi tape that showcase her love for biology.\n",
    "\n",
    "---\n",
    "\n",
    "## 2. Gaming-Related Gifts\n",
    "- **New Game or Expansion**: If she has a favorite console or platform, you could gift a newly released game or an expansion pack for a game she already loves.\n",
    "- **Gaming Accessories**: A nice gaming headset, a wireless controller with a fun design, or even gaming merchandise like character figurines or posters.\n",
    "- **Nintendo Switch Accessories**: If she has a Switch, fun Joy-Con skins or carrying cases with cute designs can be a low-cost but personal gift.\n",
    "- **Online Subscriptions**: Gifting a subscription to services like Nintendo Switch Online, PlayStation Plus, or Xbox Game Pass (depending on her console) can open the door to tons of games.\n",
    "\n",
    "---\n",
    "\n",
    "## 3. Baking Supplies and Treats\n",
    "- **Decorative Baking Kit**: A set of piping tips, cookie cutters, unique cake pans, or decorating tools can help her level up her baking game.\n",
    "- **Specialty Ingredients or Mixes**: Consider fun or hard-to-find baking ingredients—like flavor extracts or unique sprinkles—to encourage experimentation in the kitchen.\n",
    "- **Baking Class Voucher**: If she’s up for a new experience, a virtual or in-person baking class is a great way to sharpen her skills.\n",
    "- **Personalized Apron or Cookbook**: A custom apron with her name or a well-chosen cookbook—possibly one that focuses on Korean-inspired baked goods—would be thoughtful and practical.\n",
    "\n",
    "---\n",
    "\n",
    "## 4. Korean-Themed Gifts\n",
    "Since she’s Korean (or of Korean background), here are a few ideas incorporating that side of her identity:\n",
    "- **Korean Dessert or Baking Cookbook**: Exploring trendy Korean-inspired pastries or learning more traditional Korean dessert recipes could be a unique twist for her hobby.\n",
    "- **K-Pop or K-Drama Merchandise**: If she’s into certain artists or shows, some official merchandise (album, photo book, posters) might be a hit.\n",
    "- **Cultural Subscription Boxes**: Some subscription boxes specialize in sending curated Korean snacks, cooking ingredients, or lifestyle products monthly. It’s a fun way to celebrate her culture throughout the year.\n",
    "\n",
    "---\n",
    "\n",
    "## 5. Combine Her Interests for Something Unique\n",
    "- **Biology-themed Baking Stencils**: Make or order stencils shaped like chemical structures, cells, or DNA strands to use on cookies or cakes.\n",
    "- **Customized Gamer Chef Gift Set**: Put together a fun combo pack—a “Gamer Chef” hamper with cute gaming-themed oven mitts, a biology-themed apron, plus some fun Korean baking ingredients. Add a humorous note like “Level up your baking!”\n",
    "\n",
    "---\n",
    "\n",
    "### Final Tips\n",
    "1. **Personal Touch**: If you want to make it extra meaningful, include a handwritten note expressing why you picked each item and how you see it connecting to her passions.\n",
    "2. **Consider Her Space**: As a college student, something relatively compact, organized, or easy to store might be much appreciated.\n",
    "3. **Digital vs. Physical**: If she’s in a dorm or tight on space, e-gift cards (e.g., for gaming stores or for cooking classes) can be practical yet fun gifts.\n",
    "\n",
    "I hope these suggestions spark some ideas! Let me know if you have a particular budget in mind or want more specific recommendations—happy to help you refine your search!\n",
    "\n",
    "---\n",
    "\n",
    "## Notes\n",
    "* Before offering me gift ideas, GPT asked me for some additional information about my friend.\n",
    "* This is human-like behavior, as I would expect another human to ask me about hobbies or interests to inform their recommendations, rather than launching into basic, impersonal gifts.\n",
    "* With this information, GPT will likely be able to generate more personal gifts, so I was pleasantly surprised by its follow-up question."
   ]
  },
  {
   "cell_type": "code",
   "execution_count": null,
   "id": "c25dba17-f203-472e-b487-7c7c31333b5e",
   "metadata": {},
   "outputs": [],
   "source": []
  }
 ],
 "metadata": {
  "citation-manager": {
   "items": {}
  },
  "kernelspec": {
   "display_name": "Python 3 (ipykernel)",
   "language": "python",
   "name": "python3"
  },
  "language_info": {
   "codemirror_mode": {
    "name": "ipython",
    "version": 3
   },
   "file_extension": ".py",
   "mimetype": "text/x-python",
   "name": "python",
   "nbconvert_exporter": "python",
   "pygments_lexer": "ipython3",
   "version": "3.10.12"
  }
 },
 "nbformat": 4,
 "nbformat_minor": 5
}
